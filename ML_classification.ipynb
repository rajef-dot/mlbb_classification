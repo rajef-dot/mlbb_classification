{
 "cells": [
  {
   "cell_type": "markdown",
   "id": "2b35c0bc-0887-4245-86ca-7616b89dea76",
   "metadata": {},
   "source": [
    "# Machine Learning Classification"
   ]
  },
  {
   "cell_type": "code",
   "execution_count": 8,
   "id": "8359f7d6-1b5a-4108-abba-fd9a65e51b5f",
   "metadata": {},
   "outputs": [
    {
     "data": {
      "text/html": [
       "<div>\n",
       "<style scoped>\n",
       "    .dataframe tbody tr th:only-of-type {\n",
       "        vertical-align: middle;\n",
       "    }\n",
       "\n",
       "    .dataframe tbody tr th {\n",
       "        vertical-align: top;\n",
       "    }\n",
       "\n",
       "    .dataframe thead th {\n",
       "        text-align: right;\n",
       "    }\n",
       "</style>\n",
       "<table border=\"1\" class=\"dataframe\">\n",
       "  <thead>\n",
       "    <tr style=\"text-align: right;\">\n",
       "      <th></th>\n",
       "      <th>kill</th>\n",
       "      <th>assist</th>\n",
       "      <th>death</th>\n",
       "      <th>turret</th>\n",
       "      <th>role</th>\n",
       "    </tr>\n",
       "  </thead>\n",
       "  <tbody>\n",
       "    <tr>\n",
       "      <th>0</th>\n",
       "      <td>10</td>\n",
       "      <td>2</td>\n",
       "      <td>3</td>\n",
       "      <td>2</td>\n",
       "      <td>penyerang</td>\n",
       "    </tr>\n",
       "    <tr>\n",
       "      <th>1</th>\n",
       "      <td>3</td>\n",
       "      <td>9</td>\n",
       "      <td>5</td>\n",
       "      <td>0</td>\n",
       "      <td>bertahan</td>\n",
       "    </tr>\n",
       "    <tr>\n",
       "      <th>2</th>\n",
       "      <td>8</td>\n",
       "      <td>4</td>\n",
       "      <td>2</td>\n",
       "      <td>1</td>\n",
       "      <td>penyerang</td>\n",
       "    </tr>\n",
       "    <tr>\n",
       "      <th>3</th>\n",
       "      <td>2</td>\n",
       "      <td>11</td>\n",
       "      <td>6</td>\n",
       "      <td>0</td>\n",
       "      <td>bertahan</td>\n",
       "    </tr>\n",
       "    <tr>\n",
       "      <th>4</th>\n",
       "      <td>12</td>\n",
       "      <td>3</td>\n",
       "      <td>2</td>\n",
       "      <td>3</td>\n",
       "      <td>penyerang</td>\n",
       "    </tr>\n",
       "    <tr>\n",
       "      <th>5</th>\n",
       "      <td>4</td>\n",
       "      <td>10</td>\n",
       "      <td>7</td>\n",
       "      <td>0</td>\n",
       "      <td>penyerang</td>\n",
       "    </tr>\n",
       "    <tr>\n",
       "      <th>6</th>\n",
       "      <td>9</td>\n",
       "      <td>5</td>\n",
       "      <td>2</td>\n",
       "      <td>2</td>\n",
       "      <td>penyerang</td>\n",
       "    </tr>\n",
       "    <tr>\n",
       "      <th>7</th>\n",
       "      <td>1</td>\n",
       "      <td>13</td>\n",
       "      <td>6</td>\n",
       "      <td>0</td>\n",
       "      <td>bertahan</td>\n",
       "    </tr>\n",
       "    <tr>\n",
       "      <th>8</th>\n",
       "      <td>11</td>\n",
       "      <td>4</td>\n",
       "      <td>3</td>\n",
       "      <td>2</td>\n",
       "      <td>penyerang</td>\n",
       "    </tr>\n",
       "    <tr>\n",
       "      <th>9</th>\n",
       "      <td>2</td>\n",
       "      <td>12</td>\n",
       "      <td>5</td>\n",
       "      <td>0</td>\n",
       "      <td>bertahan</td>\n",
       "    </tr>\n",
       "  </tbody>\n",
       "</table>\n",
       "</div>"
      ],
      "text/plain": [
       "   kill  assist  death  turret       role\n",
       "0    10       2      3       2  penyerang\n",
       "1     3       9      5       0   bertahan\n",
       "2     8       4      2       1  penyerang\n",
       "3     2      11      6       0   bertahan\n",
       "4    12       3      2       3  penyerang\n",
       "5     4      10      7       0  penyerang\n",
       "6     9       5      2       2  penyerang\n",
       "7     1      13      6       0   bertahan\n",
       "8    11       4      3       2  penyerang\n",
       "9     2      12      5       0   bertahan"
      ]
     },
     "execution_count": 8,
     "metadata": {},
     "output_type": "execute_result"
    }
   ],
   "source": [
    "#Lakukan proses pemanggilan dataset menggunakan pandas\n",
    "#Import pandas terlebih dahulu\n",
    "\n",
    "import pandas as pd\n",
    "\n",
    "#baca file dataset\n",
    "df = pd.read_csv(\"dataset.csv\")\n",
    "\n",
    "#tampilkan dataframenya\n",
    "df"
   ]
  },
  {
   "cell_type": "code",
   "execution_count": 6,
   "id": "bbbcaa9f-4bbd-498c-935e-31d9ee74ff1d",
   "metadata": {},
   "outputs": [
    {
     "data": {
      "text/html": [
       "<div>\n",
       "<style scoped>\n",
       "    .dataframe tbody tr th:only-of-type {\n",
       "        vertical-align: middle;\n",
       "    }\n",
       "\n",
       "    .dataframe tbody tr th {\n",
       "        vertical-align: top;\n",
       "    }\n",
       "\n",
       "    .dataframe thead th {\n",
       "        text-align: right;\n",
       "    }\n",
       "</style>\n",
       "<table border=\"1\" class=\"dataframe\">\n",
       "  <thead>\n",
       "    <tr style=\"text-align: right;\">\n",
       "      <th></th>\n",
       "      <th>kill</th>\n",
       "      <th>assist</th>\n",
       "      <th>death</th>\n",
       "      <th>turret</th>\n",
       "      <th>role</th>\n",
       "    </tr>\n",
       "  </thead>\n",
       "  <tbody>\n",
       "    <tr>\n",
       "      <th>5</th>\n",
       "      <td>4</td>\n",
       "      <td>10</td>\n",
       "      <td>7</td>\n",
       "      <td>0</td>\n",
       "      <td>penyerang</td>\n",
       "    </tr>\n",
       "    <tr>\n",
       "      <th>6</th>\n",
       "      <td>9</td>\n",
       "      <td>5</td>\n",
       "      <td>2</td>\n",
       "      <td>2</td>\n",
       "      <td>penyerang</td>\n",
       "    </tr>\n",
       "    <tr>\n",
       "      <th>7</th>\n",
       "      <td>1</td>\n",
       "      <td>13</td>\n",
       "      <td>6</td>\n",
       "      <td>0</td>\n",
       "      <td>bertahan</td>\n",
       "    </tr>\n",
       "    <tr>\n",
       "      <th>8</th>\n",
       "      <td>11</td>\n",
       "      <td>4</td>\n",
       "      <td>3</td>\n",
       "      <td>2</td>\n",
       "      <td>penyerang</td>\n",
       "    </tr>\n",
       "    <tr>\n",
       "      <th>9</th>\n",
       "      <td>2</td>\n",
       "      <td>12</td>\n",
       "      <td>5</td>\n",
       "      <td>0</td>\n",
       "      <td>bertahan</td>\n",
       "    </tr>\n",
       "  </tbody>\n",
       "</table>\n",
       "</div>"
      ],
      "text/plain": [
       "   kill  assist  death  turret       role\n",
       "5     4      10      7       0  penyerang\n",
       "6     9       5      2       2  penyerang\n",
       "7     1      13      6       0   bertahan\n",
       "8    11       4      3       2  penyerang\n",
       "9     2      12      5       0   bertahan"
      ]
     },
     "execution_count": 6,
     "metadata": {},
     "output_type": "execute_result"
    }
   ],
   "source": [
    "#menampilkan data paling atas\n",
    "#default head adalah 5\n",
    "df.tail()"
   ]
  },
  {
   "cell_type": "code",
   "execution_count": 9,
   "id": "ab082470-0c5a-44ea-9b32-1ced8920822b",
   "metadata": {},
   "outputs": [
    {
     "name": "stdout",
     "output_type": "stream",
     "text": [
      "<class 'pandas.core.frame.DataFrame'>\n",
      "RangeIndex: 10 entries, 0 to 9\n",
      "Data columns (total 5 columns):\n",
      " #   Column  Non-Null Count  Dtype \n",
      "---  ------  --------------  ----- \n",
      " 0   kill    10 non-null     int64 \n",
      " 1   assist  10 non-null     int64 \n",
      " 2   death   10 non-null     int64 \n",
      " 3   turret  10 non-null     int64 \n",
      " 4   role    10 non-null     object\n",
      "dtypes: int64(4), object(1)\n",
      "memory usage: 532.0+ bytes\n"
     ]
    }
   ],
   "source": [
    "#melihat struktur data\n",
    "\n",
    "df.info()"
   ]
  },
  {
   "cell_type": "code",
   "execution_count": 11,
   "id": "20f93aef-41f5-453a-9df7-9b908cf6f82e",
   "metadata": {},
   "outputs": [
    {
     "data": {
      "text/html": [
       "<div>\n",
       "<style scoped>\n",
       "    .dataframe tbody tr th:only-of-type {\n",
       "        vertical-align: middle;\n",
       "    }\n",
       "\n",
       "    .dataframe tbody tr th {\n",
       "        vertical-align: top;\n",
       "    }\n",
       "\n",
       "    .dataframe thead th {\n",
       "        text-align: right;\n",
       "    }\n",
       "</style>\n",
       "<table border=\"1\" class=\"dataframe\">\n",
       "  <thead>\n",
       "    <tr style=\"text-align: right;\">\n",
       "      <th></th>\n",
       "      <th>kill</th>\n",
       "      <th>assist</th>\n",
       "      <th>death</th>\n",
       "      <th>turret</th>\n",
       "    </tr>\n",
       "  </thead>\n",
       "  <tbody>\n",
       "    <tr>\n",
       "      <th>count</th>\n",
       "      <td>10.000000</td>\n",
       "      <td>10.000000</td>\n",
       "      <td>10.000000</td>\n",
       "      <td>10.000000</td>\n",
       "    </tr>\n",
       "    <tr>\n",
       "      <th>mean</th>\n",
       "      <td>6.200000</td>\n",
       "      <td>7.300000</td>\n",
       "      <td>4.100000</td>\n",
       "      <td>1.000000</td>\n",
       "    </tr>\n",
       "    <tr>\n",
       "      <th>std</th>\n",
       "      <td>4.211096</td>\n",
       "      <td>4.110961</td>\n",
       "      <td>1.911951</td>\n",
       "      <td>1.154701</td>\n",
       "    </tr>\n",
       "    <tr>\n",
       "      <th>min</th>\n",
       "      <td>1.000000</td>\n",
       "      <td>2.000000</td>\n",
       "      <td>2.000000</td>\n",
       "      <td>0.000000</td>\n",
       "    </tr>\n",
       "    <tr>\n",
       "      <th>25%</th>\n",
       "      <td>2.250000</td>\n",
       "      <td>4.000000</td>\n",
       "      <td>2.250000</td>\n",
       "      <td>0.000000</td>\n",
       "    </tr>\n",
       "    <tr>\n",
       "      <th>50%</th>\n",
       "      <td>6.000000</td>\n",
       "      <td>7.000000</td>\n",
       "      <td>4.000000</td>\n",
       "      <td>0.500000</td>\n",
       "    </tr>\n",
       "    <tr>\n",
       "      <th>75%</th>\n",
       "      <td>9.750000</td>\n",
       "      <td>10.750000</td>\n",
       "      <td>5.750000</td>\n",
       "      <td>2.000000</td>\n",
       "    </tr>\n",
       "    <tr>\n",
       "      <th>max</th>\n",
       "      <td>12.000000</td>\n",
       "      <td>13.000000</td>\n",
       "      <td>7.000000</td>\n",
       "      <td>3.000000</td>\n",
       "    </tr>\n",
       "  </tbody>\n",
       "</table>\n",
       "</div>"
      ],
      "text/plain": [
       "            kill     assist      death     turret\n",
       "count  10.000000  10.000000  10.000000  10.000000\n",
       "mean    6.200000   7.300000   4.100000   1.000000\n",
       "std     4.211096   4.110961   1.911951   1.154701\n",
       "min     1.000000   2.000000   2.000000   0.000000\n",
       "25%     2.250000   4.000000   2.250000   0.000000\n",
       "50%     6.000000   7.000000   4.000000   0.500000\n",
       "75%     9.750000  10.750000   5.750000   2.000000\n",
       "max    12.000000  13.000000   7.000000   3.000000"
      ]
     },
     "execution_count": 11,
     "metadata": {},
     "output_type": "execute_result"
    }
   ],
   "source": [
    "#menampilkan informasi statistik\n",
    "\n",
    "df.describe()"
   ]
  },
  {
   "cell_type": "code",
   "execution_count": 14,
   "id": "5a10ac64-c1f4-482f-87db-18b1748a91df",
   "metadata": {},
   "outputs": [
    {
     "data": {
      "text/plain": [
       "0    penyerang\n",
       "1     bertahan\n",
       "2    penyerang\n",
       "3     bertahan\n",
       "4    penyerang\n",
       "5    penyerang\n",
       "6    penyerang\n",
       "7     bertahan\n",
       "8    penyerang\n",
       "9     bertahan\n",
       "Name: role, dtype: object"
      ]
     },
     "execution_count": 14,
     "metadata": {},
     "output_type": "execute_result"
    }
   ],
   "source": [
    "df['role']"
   ]
  },
  {
   "cell_type": "code",
   "execution_count": 16,
   "id": "71628a20-ea52-4db6-a93f-296e4ddfa59e",
   "metadata": {},
   "outputs": [
    {
     "data": {
      "text/plain": [
       "role\n",
       "penyerang    6\n",
       "bertahan     4\n",
       "Name: count, dtype: int64"
      ]
     },
     "execution_count": 16,
     "metadata": {},
     "output_type": "execute_result"
    }
   ],
   "source": [
    "df['role'].value_counts()"
   ]
  },
  {
   "cell_type": "code",
   "execution_count": 41,
   "id": "f3b71f19-56cf-40cb-9556-03eda2acfbde",
   "metadata": {},
   "outputs": [
    {
     "data": {
      "image/png": "[encoded data removed]",
      "text/plain": [
       "<Figure size 600x500 with 1 Axes>"
      ]
     },
     "metadata": {},
     "output_type": "display_data"
    }
   ],
   "source": [
    "#visualisasi data menggunakan matplotlib\n",
    "\n",
    "import matplotlib.pyplot as plt\n",
    "\n",
    "penyerang = df[df[\"role\"]==\"penyerang\"]\n",
    "bertahan = df[df[\"role\"]==\"bertahan\"]\n",
    "\n",
    "plt.figure(figsize=(6,5))\n",
    "plt.scatter(penyerang[\"kill\"],penyerang[\"assist\"],color=\"red\",s=100,alpha=0.7,label=\"penyerang\")\n",
    "plt.scatter(bertahan[\"kill\"],bertahan[\"assist\"],color=\"blue\",s=100,alpha=0.7,label=\"bertahan\")\n",
    "plt.xlabel(\"Kill\")\n",
    "plt.ylabel(\"Assist\")\n",
    "plt.legend()\n",
    "plt.grid(True,linestyle=\"--\",alpha=0.5)\n",
    "plt.show()"
   ]
  },
  {
   "cell_type": "code",
   "execution_count": 31,
   "id": "f09b37fe-b30a-46aa-9802-460eef5d1a36",
   "metadata": {},
   "outputs": [
    {
     "name": "stdout",
     "output_type": "stream",
     "text": [
      "Accuracy : 1.0\n"
     ]
    }
   ],
   "source": [
    "#membuat model machine laerning\n",
    "\n",
    "from sklearn.linear_model import LogisticRegression\n",
    "from sklearn.model_selection import train_test_split\n",
    "from sklearn.metrics import accuracy_score\n",
    "\n",
    "X = df[[\"kill\",\"assist\",\"death\",\"turret\"]]\n",
    "y = df[\"role\"]\n",
    "\n",
    "X_train, X_test, y_train, y_test = train_test_split(X, y, test_size=0.2, random_state=42)\n",
    "\n",
    "model = LogisticRegression()\n",
    "model.fit(X_train,y_train)\n",
    "\n",
    "y_pred = model.predict(X_test)\n",
    "\n",
    "print(\"Accuracy :\", accuracy_score(y_test, y_pred))"
   ]
  },
  {
   "cell_type": "code",
   "execution_count": 35,
   "id": "ad30cee0-1b1d-4a58-bc03-a1e9e42afa61",
   "metadata": {},
   "outputs": [
    {
     "data": {
      "text/plain": [
       "array(['bertahan'], dtype=object)"
      ]
     },
     "execution_count": 35,
     "metadata": {},
     "output_type": "execute_result"
    }
   ],
   "source": [
    "data_baru = pd.DataFrame([[1,12,7,0]],\n",
    "                columns=[\"kill\",\"assist\",\"death\",\"turret\"])\n",
    "model.predict(data_baru)"
   ]
  },
  {
   "cell_type": "code",
   "execution_count": 37,
   "id": "b112cf33-676b-4b29-8ca4-1206916f4a8c",
   "metadata": {},
   "outputs": [
    {
     "data": {
      "text/plain": [
       "'penyerang'"
      ]
     },
     "execution_count": 37,
     "metadata": {},
     "output_type": "execute_result"
    }
   ],
   "source": [
    "data_lain = pd.DataFrame([[1,1,4,4]],\n",
    "                columns=[\"kill\",\"assist\",\"death\",\"turret\"])\n",
    "model.predict(data_lain)[0]"
   ]
  },
  {
   "cell_type": "code",
   "execution_count": 38,
   "id": "04c1e521-d09a-4fd4-b015-1d1ac7a9f94f",
   "metadata": {},
   "outputs": [
    {
     "data": {
      "text/plain": [
       "['model_mlbb.joblib']"
      ]
     },
     "execution_count": 38,
     "metadata": {},
     "output_type": "execute_result"
    }
   ],
   "source": [
    "import joblib\n",
    "joblib.dump(model,\"model_mlbb.joblib\")"
   ]
  },
  {
   "cell_type": "code",
   "execution_count": 42,
   "id": "4c7b37b9-712c-4336-8a5e-517379c39fba",
   "metadata": {},
   "outputs": [
    {
     "data": {
      "text/plain": [
       "'penyerang'"
      ]
     },
     "execution_count": 42,
     "metadata": {},
     "output_type": "execute_result"
    }
   ],
   "source": [
    "import joblib\n",
    "\n",
    "model_tersimpan = joblib.load(\"model_mlbb.joblib\")\n",
    "data_lain = pd.DataFrame([[4,4,2,2]], columns=[\"kill\",\"assist\",\"death\",\"turret\"])\n",
    "model_tersimpan.predict(data_lain)[0]"
   ]
  }
 ],
 "metadata": {
  "kernelspec": {
   "display_name": "Python 3 (ipykernel)",
   "language": "python",
   "name": "python3"
  },
  "language_info": {
   "codemirror_mode": {
    "name": "ipython",
    "version": 3
   },
   "file_extension": ".py",
   "mimetype": "text/x-python",
   "name": "python",
   "nbconvert_exporter": "python",
   "pygments_lexer": "ipython3",
   "version": "3.13.5"
  }
 },
 "nbformat": 4,
 "nbformat_minor": 5
}
